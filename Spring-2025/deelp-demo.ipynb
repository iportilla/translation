{
 "cells": [
  {
   "cell_type": "markdown",
   "metadata": {},
   "source": [
    "## DeeeL Translation Example"
   ]
  },
  {
   "cell_type": "code",
   "execution_count": 18,
   "metadata": {},
   "outputs": [],
   "source": [
    "import deepl\n",
    "import os\n",
    "import json\n",
    "import io\n"
   ]
  },
  {
   "cell_type": "code",
   "execution_count": 3,
   "metadata": {},
   "outputs": [
    {
     "data": {
      "text/plain": [
       "True"
      ]
     },
     "execution_count": 3,
     "metadata": {},
     "output_type": "execute_result"
    }
   ],
   "source": [
    "from dotenv import load_dotenv\n",
    "load_dotenv('.env')"
   ]
  },
  {
   "cell_type": "markdown",
   "metadata": {},
   "source": [
    "The code provided is a function definition for \n",
    "\n",
    "load_dotenv\n",
    "\n",
    ", which is designed to parse a \n",
    "\n",
    ".env\n",
    "\n",
    " file and load the environment variables defined within it into the system's environment variables. This is particularly useful for managing configuration settings in a project, especially sensitive information like API keys, without hardcoding them into the source code.\n",
    "\n",
    "The function accepts several parameters:\n",
    "- `dotenv_path`: This is an optional parameter that specifies the path to the \n",
    "\n",
    ".env\n",
    "\n",
    " file. It can be either an absolute or a relative path.\n",
    "- `stream`: Another optional parameter, this allows the user to pass a text stream (such as an `io.StringIO` object) containing the \n",
    "\n",
    ".env\n",
    "\n",
    " content. This is used if `dotenv_path` is not provided.\n",
    "- `verbose`: A boolean flag that, when set to `True`, will output a warning if the \n",
    "\n",
    ".env\n",
    "\n",
    " file is missing.\n",
    "- `override`: This boolean flag determines whether the variables from the \n",
    "\n",
    ".env\n",
    "\n",
    " file should override existing system environment variables.\n",
    "- `interpolate`: This parameter, which defaults to `True`, indicates whether the function should interpolate variables within the \n",
    "\n",
    ".env\n",
    "\n",
    " file.\n",
    "- `encoding`: Specifies the encoding to be used when reading the \n",
    "\n",
    ".env\n",
    "\n",
    " file, defaulting to \"utf-8\".\n",
    "\n",
    "The function begins by checking if both `dotenv_path` and `stream` are `None`. If they are, it uses the `find_dotenv()` function to locate the \n",
    "\n",
    ".env\n",
    "\n",
    " file. It then creates an instance of the `DotEnv` class, passing the provided parameters to it. Finally, it calls the `set_as_environment_variables` method on the `DotEnv` instance, which sets the environment variables and returns `True` if at least one variable was set, otherwise `False`.\n",
    "\n",
    "This function is a convenient way to manage environment variables in a project, ensuring that sensitive information is kept out of the source code and can be easily modified without changing the codebase."
   ]
  },
  {
   "cell_type": "code",
   "execution_count": 7,
   "metadata": {},
   "outputs": [
    {
     "name": "stdout",
     "output_type": "stream",
     "text": [
      "'https://api.us-south.language-translator.watson.cloud.ibm.com/instances/c5676a00-5643-4c00-8cbe-5409d39ede9f\n"
     ]
    }
   ],
   "source": [
    "auth_key = os.getenv('DEEPL_KEY')\n",
    "SERVICE_URL = os.getenv('SERVICE_URL')\n",
    "\n",
    "print(SERVICE_URL)"
   ]
  },
  {
   "cell_type": "code",
   "execution_count": 8,
   "metadata": {},
   "outputs": [],
   "source": [
    "translator = deepl.Translator(auth_key)"
   ]
  },
  {
   "cell_type": "code",
   "execution_count": 32,
   "metadata": {},
   "outputs": [
    {
     "name": "stdout",
     "output_type": "stream",
     "text": [
      "Hej, verden!\n"
     ]
    }
   ],
   "source": [
    "\n",
    "#https://developers.deepl.com/docs/api-reference/languages\n",
    "\n",
    "result = translator.translate_text(\"Hello, world!\", target_lang=\"DA\")\n",
    "print(result.text)  # \"Bonjour, le monde !\""
   ]
  },
  {
   "cell_type": "markdown",
   "metadata": {},
   "source": [
    "The provided code snippet demonstrates how to use a translation function to translate text from one language to another and then print the translated text. The first line calls the \n",
    "\n",
    "translate_text\n",
    "\n",
    " method on a \n",
    "\n",
    "translator\n",
    "\n",
    " object, passing the string \"Hello, world!\" as the text to be translated and specifying \"FR\" (French) as the target language. The result of this translation is stored in the \n",
    "\n",
    "result\n",
    "\n",
    " variable. The second line prints the translated text, which in this case would be \"Bonjour, le monde !\".\n",
    "\n",
    "The \n",
    "\n",
    "translate_text\n",
    "\n",
    " function is a comprehensive method designed to handle various translation scenarios. It accepts a wide range of parameters, including the text to be translated, the source and target languages, and several optional parameters that control aspects like sentence splitting, formatting preservation, formality, and tag handling. The function begins by validating the input text, ensuring it is either a string or an iterable of strings. It then prepares the request data, including the text and any specified parameters.\n",
    "\n",
    "The function makes an API call to the translation service, passing the prepared request data. It checks the response status and content, raising an error if the request was unsuccessful. If the request is successful, it processes the response to extract the translated text and the detected source language. The function returns a list of `TextResult` objects containing the translations if multiple inputs were provided, or a single `TextResult` object if only one input string was given.\n",
    "\n",
    "The \n",
    "\n",
    "print\n",
    "\n",
    " function is a built-in Python function used to output text to the console or another output stream. It accepts multiple values to print, as well as optional parameters to control the separator between values (`sep`), the string to append at the end (`end`), the output file (`file`), and whether to flush the output buffer immediately (`flush`). In this context, the \n",
    "\n",
    "print\n",
    "\n",
    " function is used to display the translated text returned by the \n",
    "\n",
    "translate_text\n",
    "\n",
    " method."
   ]
  },
  {
   "cell_type": "code",
   "execution_count": null,
   "metadata": {},
   "outputs": [
    {
     "name": "stdout",
     "output_type": "stream",
     "text": [
      "¡Hola, mundo!\n"
     ]
    }
   ],
   "source": [
    "result = translator.translate_text(\"Hello, world!\", target_lang=\"ES\")\n",
    "print(result.text)  # \"Hola, mundo !\""
   ]
  },
  {
   "cell_type": "code",
   "execution_count": 33,
   "metadata": {},
   "outputs": [
    {
     "name": "stdout",
     "output_type": "stream",
     "text": [
      "Translated texts:\n",
      "Je suis un exemple de phrase\n",
      "Je suis une autre phrase\n"
     ]
    }
   ],
   "source": [
    "import deepl\n",
    "\n",
    "#https://developers.deepl.com/docs/api-reference/languages\n",
    "\n",
    "\n",
    "# Use most translation features of the library\n",
    "translated_texts = translator.translate_text(\n",
    "    [\"I am an example sentence\", \"I am another sentence\"],\n",
    "    source_lang=\"EN\",\n",
    "    target_lang=\"FR\",\n",
    "    formality=deepl.Formality.DEFAULT,\n",
    "    tag_handling=None,\n",
    ")\n",
    "\n",
    "# Print the translated texts\n",
    "print(\"Translated texts:\")\n",
    "for text in translated_texts:\n",
    "    print(text)"
   ]
  },
  {
   "cell_type": "code",
   "execution_count": 30,
   "metadata": {},
   "outputs": [
    {
     "name": "stdout",
     "output_type": "stream",
     "text": [
      "Glossary created: Glossary \"Test Glossary\" (b5251078-b18a-4621-97c2-1baa40edba94)\n",
      "Document translation status: done\n",
      "Translated texts with glossary:\n",
      "I am an example sentence.\n",
      "I am another sentence.\n"
     ]
    }
   ],
   "source": [
    "# Create a glossary\n",
    "ginfo: deepl.GlossaryInfo = translator.create_glossary(\n",
    "    \"Test Glossary\", \"DE\", \"EN-US\", {\"Hallo\": \"Bonjour\"}\n",
    ")\n",
    "print(f\"Glossary created: {ginfo}\")\n",
    "\n",
    "# Translate a document\n",
    "with io.BytesIO() as output_file:\n",
    "    doc_status: deepl.DocumentStatus = translator.translate_document(\n",
    "        \"My example document\",\n",
    "        output_file,\n",
    "        source_lang=\"DE\",\n",
    "        # target_lang=\"FR\",\n",
    "        target_lang=\"EN-US\",\n",
    "        # target_lang=\"DK\",\n",
    "        filename=\"example.txt\",\n",
    "        glossary=ginfo,\n",
    "    )\n",
    "    print(f\"Document translation status: {doc_status}\")\n",
    "    doc_status.done\n",
    "\n",
    "# Translate text with glossary\n",
    "translated_texts = translator.translate_text_with_glossary(\n",
    "    [\"Ich bin ein Beispielsatz.\", \"Ich bin noch ein Satz.\"], glossary=ginfo\n",
    ")\n",
    "print(\"Translated texts with glossary:\")\n",
    "for text in translated_texts:\n",
    "    print(text)"
   ]
  },
  {
   "cell_type": "markdown",
   "metadata": {},
   "source": [
    "## See more examples at\n",
    "https://github.com/DeepLcom/deepl-python"
   ]
  },
  {
   "cell_type": "code",
   "execution_count": null,
   "metadata": {},
   "outputs": [],
   "source": []
  }
 ],
 "metadata": {
  "kernelspec": {
   "display_name": "3.11",
   "language": "python",
   "name": "python3"
  },
  "language_info": {
   "codemirror_mode": {
    "name": "ipython",
    "version": 3
   },
   "file_extension": ".py",
   "mimetype": "text/x-python",
   "name": "python",
   "nbconvert_exporter": "python",
   "pygments_lexer": "ipython3",
   "version": "3.11.8"
  }
 },
 "nbformat": 4,
 "nbformat_minor": 2
}
